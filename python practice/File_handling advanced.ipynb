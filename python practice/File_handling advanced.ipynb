{
 "cells": [
  {
   "cell_type": "markdown",
   "id": "ccb18536-5f48-496d-9da2-80be744d7327",
   "metadata": {},
   "source": [
    "File operation\n"
   ]
  },
  {
   "cell_type": "markdown",
   "id": "743b203a-cef9-4504-b0df-5fc8ed865fac",
   "metadata": {},
   "source": [
    "Writing multiple lines simultaneously"
   ]
  },
  {
   "cell_type": "code",
   "execution_count": 8,
   "id": "a4a2dccc-4014-452d-8831-ed898da9831b",
   "metadata": {},
   "outputs": [],
   "source": [
    "list = ['hello\\n','I am Nishaad \\n','An aspiring software engineer']"
   ]
  },
  {
   "cell_type": "code",
   "execution_count": 9,
   "id": "7a53a65e-8225-4bdd-9eda-35190474ad97",
   "metadata": {},
   "outputs": [],
   "source": [
    "with open('T4.txt','w') as f:\n",
    "    f.writelines(list)"
   ]
  },
  {
   "cell_type": "code",
   "execution_count": 10,
   "id": "fef58893-42d9-40c0-b5f5-2d36d401b875",
   "metadata": {},
   "outputs": [],
   "source": [
    "with open('T4.txt','r') as f:\n",
    "    content = f.read()\n",
    "    "
   ]
  },
  {
   "cell_type": "code",
   "execution_count": 11,
   "id": "5fa6e00a-dbab-45f0-992e-92b10e23833f",
   "metadata": {},
   "outputs": [
    {
     "name": "stdout",
     "output_type": "stream",
     "text": [
      "hello\n",
      "I am Nishaad \n",
      "An aspiring software engineer\n"
     ]
    }
   ],
   "source": [
    "print(content)"
   ]
  },
  {
   "cell_type": "code",
   "execution_count": 12,
   "id": "fe632908-7f98-4d21-b0e5-fa2d533b85b0",
   "metadata": {},
   "outputs": [],
   "source": [
    "l = content.split('\\n')\n"
   ]
  },
  {
   "cell_type": "code",
   "execution_count": 13,
   "id": "cefe7197-cacc-4082-9433-fd98952bb2bb",
   "metadata": {},
   "outputs": [
    {
     "name": "stdout",
     "output_type": "stream",
     "text": [
      "['hello', 'I am Nishaad ', 'An aspiring software engineer']\n"
     ]
    }
   ],
   "source": [
    "print(l)"
   ]
  },
  {
   "cell_type": "code",
   "execution_count": 15,
   "id": "55634e7b-d22d-49d8-aae0-27549a1e5150",
   "metadata": {},
   "outputs": [],
   "source": [
    "## Binary Files\n",
    "## here we update bytes\n",
    "data = b'\\x00\\x01\\x03\\x04'\n",
    "with open('example.bin','wb') as file:\n",
    "    file.write(data)"
   ]
  },
  {
   "cell_type": "code",
   "execution_count": 17,
   "id": "0686fe47-3beb-4c91-bde2-93ae9106380d",
   "metadata": {},
   "outputs": [
    {
     "name": "stdout",
     "output_type": "stream",
     "text": [
      "b'\\x00\\x01\\x03\\x04'\n"
     ]
    }
   ],
   "source": [
    "with open('example.bin','rb') as file:\n",
    "    content = file.read()\n",
    "print(content)"
   ]
  },
  {
   "cell_type": "code",
   "execution_count": 21,
   "id": "562ec61f-9eab-4427-adfa-79f1ad1f311d",
   "metadata": {},
   "outputs": [
    {
     "name": "stdout",
     "output_type": "stream",
     "text": [
      "hello\n",
      "i am Nishaad\n",
      "i love computer science\n",
      "and i love music as well\n"
     ]
    }
   ],
   "source": [
    "## read the content from a source text file and write it  to a destination text file\n",
    "with open('source.txt','r') as f1:\n",
    "    content = f1.read()\n",
    "print(content)\n",
    "with open('destination.txt','w') as f2:\n",
    "    f2.write(content)\n"
   ]
  },
  {
   "cell_type": "code",
   "execution_count": 22,
   "id": "4a5a0cf0-dfb6-43b4-9d77-9f3617db6c96",
   "metadata": {},
   "outputs": [],
   "source": [
    "with open('dest2.txt','w') as f3:\n",
    "    f3.write(content)"
   ]
  },
  {
   "cell_type": "markdown",
   "id": "5b7a0803-586b-4324-bab3-0dc4e0e87889",
   "metadata": {},
   "source": [
    "The w+ mode in python is used for both read and write operations"
   ]
  },
  {
   "cell_type": "code",
   "execution_count": 25,
   "id": "af8d5754-ecdd-4633-a36b-e3b836714e6c",
   "metadata": {},
   "outputs": [
    {
     "name": "stdout",
     "output_type": "stream",
     "text": [
      "\n"
     ]
    }
   ],
   "source": [
    "with open('T6.txt','w+') as file:\n",
    "    file.write(\"Hello im Nishaad\")\n",
    "    file.write(\"\\nI am an aspiring software engineer!\")\n",
    "    # reading from the file\n",
    "    content = file.read()\n",
    "print(content)"
   ]
  },
  {
   "cell_type": "markdown",
   "id": "520373a6-e2b2-4422-9cc0-fac113bb8215",
   "metadata": {},
   "source": [
    " the above code did not print enything because the file cursor is pointing to the next line \n",
    " we have to make it move to the first line using seek() method"
   ]
  },
  {
   "cell_type": "code",
   "execution_count": 26,
   "id": "0b14210d-2208-43df-aa3b-034b8b4295d8",
   "metadata": {},
   "outputs": [],
   "source": [
    "with open('T6.txt','w+') as file:\n",
    "    file.write(\"Hello i am Nishaad\")\n",
    "    file.write(\"\\nI am an aspiring sofftware engineer!\")\n",
    "    # move the cursor to the beginning\n",
    "    file.seek(0)\n",
    "    # now start reading\n",
    "    content = file.read()"
   ]
  },
  {
   "cell_type": "code",
   "execution_count": 27,
   "id": "b6ad5467-d5db-4dde-8f8c-d3ece400f762",
   "metadata": {},
   "outputs": [
    {
     "name": "stdout",
     "output_type": "stream",
     "text": [
      "Hello i am Nishaad\n",
      "I am an aspiring sofftware engineer!\n"
     ]
    }
   ],
   "source": [
    "print(content)"
   ]
  },
  {
   "cell_type": "code",
   "execution_count": null,
   "id": "d4c3be16-7f88-46ee-8619-afacd04121bd",
   "metadata": {},
   "outputs": [],
   "source": []
  }
 ],
 "metadata": {
  "kernelspec": {
   "display_name": "Python 3 (ipykernel)",
   "language": "python",
   "name": "python3"
  },
  "language_info": {
   "codemirror_mode": {
    "name": "ipython",
    "version": 3
   },
   "file_extension": ".py",
   "mimetype": "text/x-python",
   "name": "python",
   "nbconvert_exporter": "python",
   "pygments_lexer": "ipython3",
   "version": "3.11.1"
  }
 },
 "nbformat": 4,
 "nbformat_minor": 5
}
