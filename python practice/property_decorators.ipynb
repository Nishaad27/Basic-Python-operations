{
 "cells": [
  {
   "cell_type": "code",
   "execution_count": 1,
   "id": "bc93fe73-865d-4d33-8949-cd6006f1f761",
   "metadata": {},
   "outputs": [],
   "source": [
    "class Employee:\n",
    "    salary = 0\n",
    "    salaryBonus = 0\n",
    "    def __init__(self,salary,salaryBonus):\n",
    "        self.salary = salary\n",
    "        self.salaryBonus = salaryBonus\n",
    "    @property\n",
    "    def totalSalary(self):\n",
    "        return self.salary + self.salaryBonus\n",
    "    @totalSalary.setter\n",
    "    def totalSalary(self,val):\n",
    "        self.salaryBonus = val-self.salary\n",
    "\n"
   ]
  },
  {
   "cell_type": "code",
   "execution_count": 2,
   "id": "f874db5b-3446-405b-8490-7703a105ba08",
   "metadata": {},
   "outputs": [],
   "source": [
    "e = Employee(1000,500)"
   ]
  },
  {
   "cell_type": "code",
   "execution_count": 3,
   "id": "d660b1db-1cf1-4646-83f0-b3ae89259bb1",
   "metadata": {},
   "outputs": [
    {
     "data": {
      "text/plain": [
       "1000"
      ]
     },
     "execution_count": 3,
     "metadata": {},
     "output_type": "execute_result"
    }
   ],
   "source": [
    "e.salary"
   ]
  },
  {
   "cell_type": "code",
   "execution_count": 4,
   "id": "1b85f28d-80c0-4d80-9682-f06c2728b4db",
   "metadata": {},
   "outputs": [
    {
     "data": {
      "text/plain": [
       "500"
      ]
     },
     "execution_count": 4,
     "metadata": {},
     "output_type": "execute_result"
    }
   ],
   "source": [
    "e.salaryBonus"
   ]
  },
  {
   "cell_type": "code",
   "execution_count": 5,
   "id": "09198681-29e9-469c-9fa3-348d0092eeb7",
   "metadata": {},
   "outputs": [
    {
     "data": {
      "text/plain": [
       "1500"
      ]
     },
     "execution_count": 5,
     "metadata": {},
     "output_type": "execute_result"
    }
   ],
   "source": [
    "e.totalSalary"
   ]
  },
  {
   "cell_type": "code",
   "execution_count": 6,
   "id": "2d0a8ddf-e3cf-4eb1-a008-2da9fb0fcad7",
   "metadata": {},
   "outputs": [],
   "source": [
    "e.totalSalary = 1700"
   ]
  },
  {
   "cell_type": "code",
   "execution_count": 7,
   "id": "0cf9f924-abf8-482c-941a-d65b2fc32904",
   "metadata": {},
   "outputs": [
    {
     "name": "stdout",
     "output_type": "stream",
     "text": [
      "1000\n"
     ]
    }
   ],
   "source": [
    "print(e.salary)"
   ]
  },
  {
   "cell_type": "code",
   "execution_count": 8,
   "id": "d92b7605-aa3e-487e-9fbb-41552ae817ed",
   "metadata": {},
   "outputs": [
    {
     "name": "stdout",
     "output_type": "stream",
     "text": [
      "700\n"
     ]
    }
   ],
   "source": [
    "print(e.salaryBonus)"
   ]
  },
  {
   "cell_type": "code",
   "execution_count": null,
   "id": "4e39ee2d-4e20-43c0-b575-1769f1297f41",
   "metadata": {},
   "outputs": [],
   "source": []
  }
 ],
 "metadata": {
  "kernelspec": {
   "display_name": "Python 3 (ipykernel)",
   "language": "python",
   "name": "python3"
  },
  "language_info": {
   "codemirror_mode": {
    "name": "ipython",
    "version": 3
   },
   "file_extension": ".py",
   "mimetype": "text/x-python",
   "name": "python",
   "nbconvert_exporter": "python",
   "pygments_lexer": "ipython3",
   "version": "3.11.1"
  }
 },
 "nbformat": 4,
 "nbformat_minor": 5
}
