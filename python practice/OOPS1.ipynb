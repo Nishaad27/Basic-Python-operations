{
 "cells": [
  {
   "cell_type": "code",
   "execution_count": 4,
   "id": "bad6479f-69f8-419e-9d6f-5703dfa96ae6",
   "metadata": {},
   "outputs": [],
   "source": [
    "class Rectangle:\n",
    "    length = 0.0\n",
    "    breadth = 0.0\n",
    "    def __init__(self,length,breadth):\n",
    "        self.length = length\n",
    "        self.breadth = breadth\n",
    "    def perimeter(self):\n",
    "        return 2*(self.length+self.breadth)\n",
    "    def area(self):\n",
    "        return self.length*self.breadth\n",
    "    \n",
    "    "
   ]
  },
  {
   "cell_type": "code",
   "execution_count": 5,
   "id": "95e9f919-dc88-47f8-af29-6bf335f7abe5",
   "metadata": {},
   "outputs": [
    {
     "name": "stdout",
     "output_type": "stream",
     "text": [
      "30\n",
      "22\n"
     ]
    }
   ],
   "source": [
    "r = Rectangle(5,6)\n",
    "print(r.area())\n",
    "print(r.perimeter())"
   ]
  },
  {
   "cell_type": "code",
   "execution_count": null,
   "id": "b14dc085-ef30-4d4b-91a9-57b30aae2004",
   "metadata": {},
   "outputs": [],
   "source": []
  }
 ],
 "metadata": {
  "kernelspec": {
   "display_name": "Python 3 (ipykernel)",
   "language": "python",
   "name": "python3"
  },
  "language_info": {
   "codemirror_mode": {
    "name": "ipython",
    "version": 3
   },
   "file_extension": ".py",
   "mimetype": "text/x-python",
   "name": "python",
   "nbconvert_exporter": "python",
   "pygments_lexer": "ipython3",
   "version": "3.11.1"
  }
 },
 "nbformat": 4,
 "nbformat_minor": 5
}
