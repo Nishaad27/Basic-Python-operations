{
 "cells": [
  {
   "cell_type": "code",
   "execution_count": 30,
   "id": "e96b61e6-406f-41e9-ab2d-6557a5ca3649",
   "metadata": {},
   "outputs": [],
   "source": [
    "class Shape:\n",
    "    name = \"Shape\"\n",
    "    def __init__(self,name):\n",
    "        self.name = name\n",
    "    def shape(self):\n",
    "        return self.name\n",
    "    def area(self):\n",
    "        None\n",
    "    def perimeter(self):\n",
    "        None"
   ]
  },
  {
   "cell_type": "code",
   "execution_count": 31,
   "id": "b36552ed-265d-4ee5-9abb-7a8a35932eb9",
   "metadata": {},
   "outputs": [],
   "source": [
    "class Rectangle(Shape):\n",
    "    length = 0.0\n",
    "    breadth = 0.0\n",
    "    def __init__(self,l,b):\n",
    "        super().__init__(\"rectangle\")\n",
    "        self.length = l\n",
    "        self.breadth = b\n",
    "    def area(self):\n",
    "        return self.length*self.breadth\n",
    "    def perimeter(self):\n",
    "        return 2*(self.length+self.breadth)\n",
    "        "
   ]
  },
  {
   "cell_type": "code",
   "execution_count": 32,
   "id": "1f6d8a09-18a4-4eb6-9514-2702747eb948",
   "metadata": {},
   "outputs": [],
   "source": [
    "class Circle(Shape):\n",
    "    radius = 0.0\n",
    "    def __init__(self,rad):\n",
    "        super().__init__(\"circle\")\n",
    "        self.radius = rad\n",
    "    def area(self):\n",
    "        return 3.14*self.radius*self.radius\n",
    "    def perimeter(self):\n",
    "        return 2*3.14*self.radius"
   ]
  },
  {
   "cell_type": "code",
   "execution_count": 33,
   "id": "e83321b6-f54c-4e1c-9898-8de644b5e5cc",
   "metadata": {},
   "outputs": [
    {
     "name": "stdout",
     "output_type": "stream",
     "text": [
      "rectangle\n",
      "12\n",
      "14\n"
     ]
    }
   ],
   "source": [
    "r = Rectangle(3,4)\n",
    "print(r.shape())\n",
    "print(r.area())\n",
    "print(r.perimeter())"
   ]
  },
  {
   "cell_type": "code",
   "execution_count": 34,
   "id": "d7e311f1-0ab2-46c5-87c7-0601ed1565e8",
   "metadata": {},
   "outputs": [
    {
     "name": "stdout",
     "output_type": "stream",
     "text": [
      "circle\n",
      "153.86\n",
      "43.96\n"
     ]
    }
   ],
   "source": [
    "c = Circle(7)\n",
    "print(c.shape())\n",
    "print(c.area())\n",
    "print(c.perimeter())"
   ]
  },
  {
   "cell_type": "code",
   "execution_count": 47,
   "id": "a93263df-50f7-4f0d-a1c6-e8d0c70ddcd9",
   "metadata": {},
   "outputs": [],
   "source": [
    "class Cylinder(Circle):\n",
    "    height = 0.0\n",
    "    def __init__(self,rad,h):\n",
    "        super().__init__(rad)\n",
    "        self.height = h\n",
    "    def volume(self):\n",
    "        return self.area()*self.height\n",
    "    "
   ]
  },
  {
   "cell_type": "code",
   "execution_count": 48,
   "id": "b03b8834-343e-489e-b594-3d6dda573a6a",
   "metadata": {},
   "outputs": [
    {
     "name": "stdout",
     "output_type": "stream",
     "text": [
      "1538.6000000000001\n"
     ]
    }
   ],
   "source": [
    "c2 = Cylinder(7,10)\n",
    "print(c2.volume())"
   ]
  },
  {
   "cell_type": "code",
   "execution_count": null,
   "id": "9aa98446-0b86-4bca-a140-9fe547182c95",
   "metadata": {},
   "outputs": [],
   "source": []
  },
  {
   "cell_type": "code",
   "execution_count": null,
   "id": "239ef267-e55f-4dc9-9481-1eb2af3b8376",
   "metadata": {},
   "outputs": [],
   "source": []
  }
 ],
 "metadata": {
  "kernelspec": {
   "display_name": "Python 3 (ipykernel)",
   "language": "python",
   "name": "python3"
  },
  "language_info": {
   "codemirror_mode": {
    "name": "ipython",
    "version": 3
   },
   "file_extension": ".py",
   "mimetype": "text/x-python",
   "name": "python",
   "nbconvert_exporter": "python",
   "pygments_lexer": "ipython3",
   "version": "3.11.1"
  }
 },
 "nbformat": 4,
 "nbformat_minor": 5
}
