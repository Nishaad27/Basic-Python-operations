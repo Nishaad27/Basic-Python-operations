{
 "cells": [
  {
   "cell_type": "code",
   "execution_count": 1,
   "id": "75b02a75-9663-4e33-b68b-9da66b8e8b51",
   "metadata": {},
   "outputs": [],
   "source": [
    "s = {1,8,2,3}"
   ]
  },
  {
   "cell_type": "code",
   "execution_count": 2,
   "id": "7e0c23f1-1472-42cc-87d2-ee666b00911b",
   "metadata": {},
   "outputs": [],
   "source": [
    "s.remove(1)"
   ]
  },
  {
   "cell_type": "code",
   "execution_count": 3,
   "id": "dae52bb7-c48b-4cbb-b5d7-c02c16b134f9",
   "metadata": {},
   "outputs": [
    {
     "name": "stdout",
     "output_type": "stream",
     "text": [
      "{8, 2, 3}\n"
     ]
    }
   ],
   "source": [
    "print(s)"
   ]
  },
  {
   "cell_type": "code",
   "execution_count": 7,
   "id": "0907f4ef-912b-42be-b3d4-9a535042db88",
   "metadata": {},
   "outputs": [],
   "source": [
    "s = s.union({1})"
   ]
  },
  {
   "cell_type": "code",
   "execution_count": 8,
   "id": "ab494025-2e2c-4fd8-a8a7-56d36b8aea9a",
   "metadata": {},
   "outputs": [
    {
     "name": "stdout",
     "output_type": "stream",
     "text": [
      "{8, 1, 2, 3}\n"
     ]
    }
   ],
   "source": [
    "print(s)"
   ]
  },
  {
   "cell_type": "code",
   "execution_count": 9,
   "id": "f73502c9-56a5-4703-b9aa-c86cfd84b2bb",
   "metadata": {},
   "outputs": [],
   "source": [
    "s.clear()"
   ]
  },
  {
   "cell_type": "code",
   "execution_count": 10,
   "id": "06a8081c-60e8-45bb-a357-38f69448ef7a",
   "metadata": {},
   "outputs": [
    {
     "name": "stdout",
     "output_type": "stream",
     "text": [
      "set()\n"
     ]
    }
   ],
   "source": [
    "print(s)"
   ]
  },
  {
   "cell_type": "code",
   "execution_count": 11,
   "id": "131ae798-1883-4491-87f9-79aaf918d2c1",
   "metadata": {},
   "outputs": [],
   "source": [
    "s = s.union({1,8,2,3})"
   ]
  },
  {
   "cell_type": "code",
   "execution_count": 12,
   "id": "3e928e61-916d-4728-b5c6-79c77be3510e",
   "metadata": {},
   "outputs": [
    {
     "name": "stdout",
     "output_type": "stream",
     "text": [
      "{8, 1, 2, 3}\n"
     ]
    }
   ],
   "source": [
    "print(s)"
   ]
  },
  {
   "cell_type": "code",
   "execution_count": 13,
   "id": "55e6022f-e267-481e-bf98-d49cda077b46",
   "metadata": {},
   "outputs": [],
   "source": [
    "s1 = s.intersection({2,3,5,6})"
   ]
  },
  {
   "cell_type": "code",
   "execution_count": 14,
   "id": "af60dc77-0eb2-44bd-8b9d-3ed02b2e61ab",
   "metadata": {},
   "outputs": [
    {
     "name": "stdout",
     "output_type": "stream",
     "text": [
      "{2, 3}\n"
     ]
    }
   ],
   "source": [
    "print(s1)"
   ]
  },
  {
   "cell_type": "code",
   "execution_count": null,
   "id": "33aa5888-e005-41d0-9c30-79762e458913",
   "metadata": {},
   "outputs": [],
   "source": []
  }
 ],
 "metadata": {
  "kernelspec": {
   "display_name": "Python 3 (ipykernel)",
   "language": "python",
   "name": "python3"
  },
  "language_info": {
   "codemirror_mode": {
    "name": "ipython",
    "version": 3
   },
   "file_extension": ".py",
   "mimetype": "text/x-python",
   "name": "python",
   "nbconvert_exporter": "python",
   "pygments_lexer": "ipython3",
   "version": "3.11.1"
  }
 },
 "nbformat": 4,
 "nbformat_minor": 5
}
