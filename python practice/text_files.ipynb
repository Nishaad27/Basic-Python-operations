{
 "cells": [
  {
   "cell_type": "code",
   "execution_count": 8,
   "id": "dec2020c-db73-4fea-8071-00df2035f9aa",
   "metadata": {},
   "outputs": [],
   "source": [
    "f = open(\"T1.txt\",'w')\n",
    "f.write(\"Hello , this is Nishaad\")\n",
    "f.close()"
   ]
  },
  {
   "cell_type": "code",
   "execution_count": 9,
   "id": "4dff6d9d-7204-4d23-9136-38221f5fdb3a",
   "metadata": {},
   "outputs": [
    {
     "name": "stdout",
     "output_type": "stream",
     "text": [
      "Hello , this is Nishaad\n"
     ]
    }
   ],
   "source": [
    "f = open(\"T1.txt\",'r')\n",
    "content = f.read()\n",
    "f.close()\n",
    "print(content)"
   ]
  },
  {
   "cell_type": "code",
   "execution_count": 10,
   "id": "1a7817ed-eb5d-4650-bbfe-45dc289bfd71",
   "metadata": {},
   "outputs": [],
   "source": [
    "f = open(\"T1.txt\",'a')\n",
    "f.write(\"\\nI am an aspiring software engineer\");\n",
    "f.close()"
   ]
  },
  {
   "cell_type": "code",
   "execution_count": 11,
   "id": "ef62391c-203e-424a-93d5-1fa24b3f16d3",
   "metadata": {},
   "outputs": [],
   "source": [
    "f = open(\"T1.txt\",'a')\n",
    "f.write(\"\\nMy dream company is google\")\n",
    "f.close()"
   ]
  },
  {
   "cell_type": "code",
   "execution_count": 12,
   "id": "66168392-4ab6-4369-b5ae-631ceaab2d19",
   "metadata": {},
   "outputs": [
    {
     "name": "stdout",
     "output_type": "stream",
     "text": [
      "Hello , this is Nishaad\n",
      "I am an aspiring software engineer\n",
      "My dream company is google\n"
     ]
    }
   ],
   "source": [
    "f = open(\"T1.txt\",'r')\n",
    "content = f.read()\n",
    "f.close()\n",
    "print(content)"
   ]
  },
  {
   "cell_type": "code",
   "execution_count": 13,
   "id": "993ca638-eb11-4c49-8031-ab63ead11e38",
   "metadata": {},
   "outputs": [],
   "source": [
    "f1 = open(\"T1.txt\",'r')\n",
    "content = f1.read()\n",
    "f1.close()\n",
    "f2 = open(\"T2.txt\",'w')\n",
    "f2.write(content)\n",
    "f2.close()"
   ]
  },
  {
   "cell_type": "code",
   "execution_count": 15,
   "id": "840caa86-f453-4092-ada4-26b913a63811",
   "metadata": {},
   "outputs": [
    {
     "name": "stdout",
     "output_type": "stream",
     "text": [
      "Hello , this is Nishaad\n",
      "I am an aspiring software engineer\n",
      "My dream company is google\n"
     ]
    }
   ],
   "source": [
    "file_obj = open(\"T2.txt\",'r')\n",
    "content = file_obj.read()\n",
    "file_obj.close()\n",
    "print(content)"
   ]
  },
  {
   "cell_type": "code",
   "execution_count": 17,
   "id": "49f405a3-df7e-4626-afe7-4df81689a371",
   "metadata": {},
   "outputs": [],
   "source": [
    "with open(\"T2.txt\",'r') as f:\n",
    "    content = f.read()"
   ]
  },
  {
   "cell_type": "code",
   "execution_count": 18,
   "id": "e88b8076-cb2c-4ea3-91fc-ecb59734bf0b",
   "metadata": {},
   "outputs": [
    {
     "name": "stdout",
     "output_type": "stream",
     "text": [
      "Hello , this is Nishaad\n",
      "I am an aspiring software engineer\n",
      "My dream company is google\n"
     ]
    }
   ],
   "source": [
    "print(content)"
   ]
  },
  {
   "cell_type": "code",
   "execution_count": null,
   "id": "9aac1dc6-0f39-44bb-9679-b09612b08ea9",
   "metadata": {},
   "outputs": [],
   "source": []
  }
 ],
 "metadata": {
  "kernelspec": {
   "display_name": "Python 3 (ipykernel)",
   "language": "python",
   "name": "python3"
  },
  "language_info": {
   "codemirror_mode": {
    "name": "ipython",
    "version": 3
   },
   "file_extension": ".py",
   "mimetype": "text/x-python",
   "name": "python",
   "nbconvert_exporter": "python",
   "pygments_lexer": "ipython3",
   "version": "3.11.1"
  }
 },
 "nbformat": 4,
 "nbformat_minor": 5
}
