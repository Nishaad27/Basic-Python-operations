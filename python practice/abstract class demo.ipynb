{
 "cells": [
  {
   "cell_type": "code",
   "execution_count": 1,
   "id": "d081f907-4504-40c3-af99-e70109e3514e",
   "metadata": {},
   "outputs": [],
   "source": [
    "from abc import ABC,abstractmethod"
   ]
  },
  {
   "cell_type": "code",
   "execution_count": 6,
   "id": "b938ae8b-6ad1-478a-af19-6ae5362398ee",
   "metadata": {},
   "outputs": [],
   "source": [
    "class Shape(ABC):\n",
    "    @abstractmethod\n",
    "    def area(self):\n",
    "        pass\n",
    "    @abstractmethod\n",
    "    def perimeter(self):\n",
    "        pass\n",
    "class Rectangle(Shape):\n",
    "    length = 0.0\n",
    "    breadth = 0.0\n",
    "    def __init__(self,l,b):\n",
    "        self.length  = l\n",
    "        self.breadth = b\n",
    "    def area(self):\n",
    "        return self.length*self.breadth\n",
    "    def perimeter(self):\n",
    "        return 2*(self.length+self.breadth)\n",
    "class Circle(Shape):\n",
    "    radius = 0.0\n",
    "    def __init__(self,rad):\n",
    "        self.radius = rad\n",
    "    def area(self):\n",
    "        return 3.14*self.radius*self.radius\n",
    "    def perimeter(self):\n",
    "        return 2*3.14*self.radius\n"
   ]
  },
  {
   "cell_type": "code",
   "execution_count": 7,
   "id": "b94d4079-5e3f-4bfc-925f-f9950b022003",
   "metadata": {},
   "outputs": [
    {
     "name": "stdout",
     "output_type": "stream",
     "text": [
      "30\n",
      "22\n"
     ]
    }
   ],
   "source": [
    "r = Rectangle(5,6)\n",
    "print(r.area())\n",
    "print(r.perimeter())\n"
   ]
  },
  {
   "cell_type": "code",
   "execution_count": 8,
   "id": "cccf78f5-7a7b-43d6-912f-8f0e705a578a",
   "metadata": {},
   "outputs": [
    {
     "name": "stdout",
     "output_type": "stream",
     "text": [
      "153.86\n",
      "43.96\n"
     ]
    }
   ],
   "source": [
    "c = Circle(7)\n",
    "print(c.area())\n",
    "print(c.perimeter())"
   ]
  },
  {
   "cell_type": "code",
   "execution_count": null,
   "id": "c7d3c8a8-99c9-4052-a257-ebc3d9233f11",
   "metadata": {},
   "outputs": [],
   "source": []
  }
 ],
 "metadata": {
  "kernelspec": {
   "display_name": "Python 3 (ipykernel)",
   "language": "python",
   "name": "python3"
  },
  "language_info": {
   "codemirror_mode": {
    "name": "ipython",
    "version": 3
   },
   "file_extension": ".py",
   "mimetype": "text/x-python",
   "name": "python",
   "nbconvert_exporter": "python",
   "pygments_lexer": "ipython3",
   "version": "3.11.1"
  }
 },
 "nbformat": 4,
 "nbformat_minor": 5
}
