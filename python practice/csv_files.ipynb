{
 "cells": [
  {
   "cell_type": "code",
   "execution_count": 1,
   "id": "21d2300d-aeda-4a1f-bc03-d6baaab8dc56",
   "metadata": {},
   "outputs": [],
   "source": [
    "import csv\n"
   ]
  },
  {
   "cell_type": "code",
   "execution_count": 2,
   "id": "fb9f0abf-e6f6-43f4-bcfb-411e15660cc4",
   "metadata": {},
   "outputs": [],
   "source": [
    "fileobj = open(\"S.csv\",'w',newline = '')\n",
    "obj = csv.writer(fileobj)\n",
    "obj.writerow(['Name','Roll No','Marks'])\n",
    "obj.writerow(['Nishaad',114,98])\n",
    "fileobj.close()"
   ]
  },
  {
   "cell_type": "code",
   "execution_count": 4,
   "id": "cf2aad51-eb09-49e6-afec-994eb2d7c445",
   "metadata": {},
   "outputs": [
    {
     "name": "stdin",
     "output_type": "stream",
     "text": [
      "Enter the name:  Nishaad\n",
      "Enter the roll no :  114\n",
      "Enter the marks:  97\n",
      "Enter the name:  Mayurakshi\n",
      "Enter the roll no :  81\n",
      "Enter the marks:  100\n",
      "Enter the name:  Pavitra\n",
      "Enter the roll no :  83\n",
      "Enter the marks:  90\n",
      "Enter the name:  sayan\n",
      "Enter the roll no :  1000\n",
      "Enter the marks:  50\n",
      "Enter the name:  Ardhendu\n",
      "Enter the roll no :  1001\n",
      "Enter the marks:  60\n"
     ]
    }
   ],
   "source": [
    "fileobj = open(\"S1.csv\",'w',newline = '')\n",
    "obj = csv.writer(fileobj)\n",
    "header = ['Name','RollNo','Marks']\n",
    "obj.writerow(header)\n",
    "for i in range(5):\n",
    "    name = input(\"Enter the name: \")\n",
    "    roll = int(input(\"Enter the roll no : \"))\n",
    "    marks = float(input(\"Enter the marks: \"))\n",
    "    l = [name,roll,marks]\n",
    "    obj.writerow(l)\n",
    "fileobj.close()\n",
    "    \n"
   ]
  },
  {
   "cell_type": "code",
   "execution_count": 5,
   "id": "2660ccfc-7af9-4832-899e-a84ef8234043",
   "metadata": {},
   "outputs": [],
   "source": [
    "l = []"
   ]
  },
  {
   "cell_type": "code",
   "execution_count": 6,
   "id": "5c13fb6e-9b14-454e-b132-284a6ee3bec4",
   "metadata": {},
   "outputs": [],
   "source": [
    "fileobj = open(\"S1.csv\",'r')\n",
    "sreader = csv.reader(fileobj)\n",
    "for item in sreader:\n",
    "    l.append(item)\n",
    "fileobj.close()"
   ]
  },
  {
   "cell_type": "code",
   "execution_count": 11,
   "id": "8be6979c-47a2-4121-8dc5-ffe1e024fba4",
   "metadata": {},
   "outputs": [
    {
     "name": "stdout",
     "output_type": "stream",
     "text": [
      "[['Name', 'RollNo', 'Marks'], ['Nishaad', '114', '97.0'], ['Mayurakshi', '81', '100.0'], ['Pavitra', '83', '90.0'], ['sayan', '1000', '50.0'], ['Ardhendu', '1001', '60.0']]\n"
     ]
    },
    {
     "data": {
      "text/plain": [
       "['Name', 'RollNo', 'Marks']"
      ]
     },
     "execution_count": 11,
     "metadata": {},
     "output_type": "execute_result"
    }
   ],
   "source": [
    "print(l)\n",
    "l.pop(0)"
   ]
  },
  {
   "cell_type": "code",
   "execution_count": 14,
   "id": "d553ed08-5a0a-4b16-a5b4-cd9f190b05ce",
   "metadata": {},
   "outputs": [],
   "source": [
    "def search_by_roll(l,roll_no):\n",
    "    for row in l:\n",
    "        if int(row[1]) == roll_no:\n",
    "            return row\n",
    "    "
   ]
  },
  {
   "cell_type": "code",
   "execution_count": 16,
   "id": "de9a5852-15d7-4b46-b185-bd0b054b0823",
   "metadata": {},
   "outputs": [
    {
     "name": "stdout",
     "output_type": "stream",
     "text": [
      "['Nishaad', '114', '97.0']\n"
     ]
    }
   ],
   "source": [
    "print(search_by_roll(l,114))"
   ]
  },
  {
   "cell_type": "code",
   "execution_count": 20,
   "id": "59975014-f0c1-40b8-b912-a9ddfe4a3689",
   "metadata": {},
   "outputs": [],
   "source": [
    "fileobj = open(\"S2.csv\",'w')\n",
    "obj = csv.writer(fileobj)\n",
    "student = [\n",
    "  ['Name','RollNo','Marks'],\n",
    " ['Nishaad','114',95],\n",
    "['Mayurakshi','81',100],\n",
    "['Sarnak','93',97]]\n",
    "\n",
    "obj.writerows(student)\n",
    "fileobj.close()"
   ]
  },
  {
   "cell_type": "code",
   "execution_count": null,
   "id": "4a7711d4-8bad-457b-9687-4480ec4b3ffc",
   "metadata": {},
   "outputs": [],
   "source": []
  }
 ],
 "metadata": {
  "kernelspec": {
   "display_name": "Python 3 (ipykernel)",
   "language": "python",
   "name": "python3"
  },
  "language_info": {
   "codemirror_mode": {
    "name": "ipython",
    "version": 3
   },
   "file_extension": ".py",
   "mimetype": "text/x-python",
   "name": "python",
   "nbconvert_exporter": "python",
   "pygments_lexer": "ipython3",
   "version": "3.11.1"
  }
 },
 "nbformat": 4,
 "nbformat_minor": 5
}
