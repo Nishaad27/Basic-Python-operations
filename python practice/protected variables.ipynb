{
 "cells": [
  {
   "cell_type": "markdown",
   "id": "99149a01-b023-46c7-b089-a97fa503d44a",
   "metadata": {},
   "source": [
    "Using protected variables"
   ]
  },
  {
   "cell_type": "code",
   "execution_count": 2,
   "id": "2ddbc265-9b74-401b-80e9-02104bbc1da0",
   "metadata": {},
   "outputs": [],
   "source": [
    "class A:\n",
    "    def __init__(self,x):\n",
    "        self._x = x\n",
    "    def get(self):\n",
    "        return self._x\n",
    "class B(A):\n",
    "    def __init__(self,x,y):\n",
    "        super().__init__(x)\n",
    "        self.y = y\n",
    "\n"
   ]
  },
  {
   "cell_type": "code",
   "execution_count": 5,
   "id": "6f83ad7b-e159-4ccc-aaf4-b439d8c898b4",
   "metadata": {},
   "outputs": [
    {
     "name": "stdout",
     "output_type": "stream",
     "text": [
      "5\n",
      "4\n"
     ]
    }
   ],
   "source": [
    "b = B(4,5)\n",
    "print(b.y)\n",
    "print(b.get())"
   ]
  },
  {
   "cell_type": "markdown",
   "id": "c546e9af-1496-47da-90c1-aa3c8f587af4",
   "metadata": {},
   "source": [
    "here x is the protected variable\n",
    "\n",
    "protected variables are written with a single underscore\n",
    "\n",
    "eg:   _x"
   ]
  },
  {
   "cell_type": "code",
   "execution_count": null,
   "id": "f4d6ff45-0458-44f5-8691-f941242bbaed",
   "metadata": {},
   "outputs": [],
   "source": []
  }
 ],
 "metadata": {
  "kernelspec": {
   "display_name": "Python 3 (ipykernel)",
   "language": "python",
   "name": "python3"
  },
  "language_info": {
   "codemirror_mode": {
    "name": "ipython",
    "version": 3
   },
   "file_extension": ".py",
   "mimetype": "text/x-python",
   "name": "python",
   "nbconvert_exporter": "python",
   "pygments_lexer": "ipython3",
   "version": "3.11.1"
  }
 },
 "nbformat": 4,
 "nbformat_minor": 5
}
