{
 "cells": [
  {
   "cell_type": "code",
   "execution_count": 1,
   "id": "831fc61e-f40e-4d61-a6ee-63c15f84b317",
   "metadata": {},
   "outputs": [],
   "source": [
    "dict = {\n",
    "    \"name\":\"Nishaad\",\n",
    "    \"college\":\"IEM\",\n",
    "    \"cgpa\": 9.7,\n",
    "    \"Domain\":\"ML\"\n",
    "}"
   ]
  },
  {
   "cell_type": "code",
   "execution_count": 2,
   "id": "36200711-03df-4069-841d-ec18b5cc9c27",
   "metadata": {},
   "outputs": [
    {
     "name": "stdout",
     "output_type": "stream",
     "text": [
      "Nishaad\n"
     ]
    }
   ],
   "source": [
    "print(dict[\"name\"])"
   ]
  },
  {
   "cell_type": "code",
   "execution_count": 3,
   "id": "99bc237e-f157-4ce9-a1a6-803fc247adc3",
   "metadata": {},
   "outputs": [
    {
     "name": "stdout",
     "output_type": "stream",
     "text": [
      "9.7\n"
     ]
    }
   ],
   "source": [
    "print(dict[\"cgpa\"])"
   ]
  },
  {
   "cell_type": "code",
   "execution_count": 4,
   "id": "45a75063-1930-4d16-826c-e2c3166d31ba",
   "metadata": {},
   "outputs": [
    {
     "name": "stdout",
     "output_type": "stream",
     "text": [
      "dict_items([('name', 'Nishaad'), ('college', 'IEM'), ('cgpa', 9.7), ('Domain', 'ML')])\n"
     ]
    }
   ],
   "source": [
    "print(dict.items())"
   ]
  },
  {
   "cell_type": "code",
   "execution_count": 5,
   "id": "3fc953a4-aad1-4de1-8ae2-78840415b7c9",
   "metadata": {},
   "outputs": [
    {
     "name": "stdout",
     "output_type": "stream",
     "text": [
      "('name', 'Nishaad')\n",
      "('college', 'IEM')\n",
      "('cgpa', 9.7)\n",
      "('Domain', 'ML')\n"
     ]
    }
   ],
   "source": [
    "for item in dict.items():\n",
    "    print(item)"
   ]
  },
  {
   "cell_type": "code",
   "execution_count": 8,
   "id": "04793922-b14c-42a1-8b5d-a61edc436af4",
   "metadata": {},
   "outputs": [
    {
     "name": "stdout",
     "output_type": "stream",
     "text": [
      "Nishaad\n",
      "IEM\n",
      "9.7\n",
      "ML\n"
     ]
    }
   ],
   "source": [
    "for key,value in dict.items():\n",
    "    print(value)"
   ]
  },
  {
   "cell_type": "code",
   "execution_count": 9,
   "id": "a36cf3f8-977c-4383-972b-818f899544a2",
   "metadata": {},
   "outputs": [
    {
     "name": "stdout",
     "output_type": "stream",
     "text": [
      "dict_keys(['name', 'college', 'cgpa', 'Domain'])\n"
     ]
    }
   ],
   "source": [
    "print(dict.keys())"
   ]
  },
  {
   "cell_type": "code",
   "execution_count": 10,
   "id": "9e0f5cb1-fa96-47d7-a2a0-3719c5d12b7b",
   "metadata": {},
   "outputs": [
    {
     "name": "stdout",
     "output_type": "stream",
     "text": [
      "dict_values(['Nishaad', 'IEM', 9.7, 'ML'])\n"
     ]
    }
   ],
   "source": [
    "print(dict.values())"
   ]
  },
  {
   "cell_type": "code",
   "execution_count": 13,
   "id": "bcd54bd3-8a0a-4fe5-b9a7-0bf743235448",
   "metadata": {},
   "outputs": [
    {
     "name": "stdout",
     "output_type": "stream",
     "text": [
      "None\n"
     ]
    }
   ],
   "source": [
    "print(dict.get(\"Name\"))"
   ]
  },
  {
   "cell_type": "code",
   "execution_count": 16,
   "id": "e50955f9-11ce-4f38-8d7e-e53c790e66d8",
   "metadata": {},
   "outputs": [
    {
     "name": "stdout",
     "output_type": "stream",
     "text": [
      "ML\n"
     ]
    }
   ],
   "source": [
    "print(dict.get(\"Domain\"))"
   ]
  },
  {
   "cell_type": "code",
   "execution_count": 17,
   "id": "dc2b0265-1642-4cb6-9c21-9bfd08026333",
   "metadata": {},
   "outputs": [],
   "source": [
    "k = {\n",
    "    \"Company\":\"Google\"\n",
    "}"
   ]
  },
  {
   "cell_type": "code",
   "execution_count": 18,
   "id": "325b4611-ab24-48ac-9f06-59ffa3ff6f8b",
   "metadata": {},
   "outputs": [],
   "source": [
    "dict.update(k)"
   ]
  },
  {
   "cell_type": "code",
   "execution_count": 19,
   "id": "f4d2f793-86cb-4eed-9380-ee5927809990",
   "metadata": {},
   "outputs": [
    {
     "name": "stdout",
     "output_type": "stream",
     "text": [
      "{'name': 'Nishaad', 'college': 'IEM', 'cgpa': 9.7, 'Domain': 'ML', 'Company': 'Google'}\n"
     ]
    }
   ],
   "source": [
    "print(dict)"
   ]
  },
  {
   "cell_type": "code",
   "execution_count": 21,
   "id": "5dcd9389-723d-42de-850a-f0fdf38eaaad",
   "metadata": {},
   "outputs": [
    {
     "name": "stdout",
     "output_type": "stream",
     "text": [
      "('name', 'Nishaad')\n",
      "('college', 'IEM')\n",
      "('cgpa', 9.7)\n",
      "('Domain', 'ML')\n",
      "('Company', 'Google')\n"
     ]
    }
   ],
   "source": [
    "for item in dict.items():\n",
    "    print(item)"
   ]
  },
  {
   "cell_type": "code",
   "execution_count": null,
   "id": "06a25470-aa45-4b13-bfb3-7266b7bcea07",
   "metadata": {},
   "outputs": [],
   "source": []
  }
 ],
 "metadata": {
  "kernelspec": {
   "display_name": "Python 3 (ipykernel)",
   "language": "python",
   "name": "python3"
  },
  "language_info": {
   "codemirror_mode": {
    "name": "ipython",
    "version": 3
   },
   "file_extension": ".py",
   "mimetype": "text/x-python",
   "name": "python",
   "nbconvert_exporter": "python",
   "pygments_lexer": "ipython3",
   "version": "3.11.1"
  }
 },
 "nbformat": 4,
 "nbformat_minor": 5
}
