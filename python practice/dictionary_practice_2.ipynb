{
 "cells": [
  {
   "cell_type": "code",
   "execution_count": 1,
   "id": "6f9d20a0-a3db-4372-a446-97fdc49cbdd7",
   "metadata": {},
   "outputs": [],
   "source": [
    "dict = {\n",
    "    \"Name\":\"Nishaad\",\n",
    "    \"Marks\":[99,98,97,100],\n",
    "    \"Grade\":\"Outstanding\",\n",
    "    \"Company\":\"Google\"\n",
    "}"
   ]
  },
  {
   "cell_type": "code",
   "execution_count": 2,
   "id": "ada28021-4653-4813-b0ca-62ffc957f29a",
   "metadata": {},
   "outputs": [
    {
     "name": "stdout",
     "output_type": "stream",
     "text": [
      "dict_keys(['Name', 'Marks', 'Grade', 'Company'])\n"
     ]
    }
   ],
   "source": [
    "print(dict.keys())"
   ]
  },
  {
   "cell_type": "code",
   "execution_count": 3,
   "id": "86aaccd3-198e-4143-a372-3dbefa50a387",
   "metadata": {},
   "outputs": [
    {
     "name": "stdout",
     "output_type": "stream",
     "text": [
      "dict_values(['Nishaad', [99, 98, 97, 100], 'Outstanding', 'Google'])\n"
     ]
    }
   ],
   "source": [
    "print(dict.values())"
   ]
  },
  {
   "cell_type": "code",
   "execution_count": 4,
   "id": "b6197b22-2c21-457a-9de2-457f7d458a8d",
   "metadata": {},
   "outputs": [
    {
     "name": "stdout",
     "output_type": "stream",
     "text": [
      "Google\n"
     ]
    }
   ],
   "source": [
    "print(dict[\"Company\"])"
   ]
  },
  {
   "cell_type": "code",
   "execution_count": 5,
   "id": "c8fda30e-3f35-46c5-b94c-272bdd5b2381",
   "metadata": {},
   "outputs": [
    {
     "name": "stdout",
     "output_type": "stream",
     "text": [
      "Google\n"
     ]
    }
   ],
   "source": [
    "print(dict.get(\"Company\"))"
   ]
  },
  {
   "cell_type": "code",
   "execution_count": 6,
   "id": "3ba3aa0f-93d3-4e49-9c20-690bb5bb8801",
   "metadata": {},
   "outputs": [],
   "source": [
    "dict.update({\"Domain\":\"Machine Learning\"})"
   ]
  },
  {
   "cell_type": "code",
   "execution_count": 7,
   "id": "646e12c4-d513-4708-8536-7c1a9e21ddc0",
   "metadata": {},
   "outputs": [
    {
     "name": "stdout",
     "output_type": "stream",
     "text": [
      "{'Name': 'Nishaad', 'Marks': [99, 98, 97, 100], 'Grade': 'Outstanding', 'Company': 'Google', 'Domain': 'Machine Learning'}\n"
     ]
    }
   ],
   "source": [
    "print(dict)"
   ]
  },
  {
   "cell_type": "code",
   "execution_count": 8,
   "id": "31456151-6818-40d7-92cf-4444895daae3",
   "metadata": {},
   "outputs": [
    {
     "name": "stdout",
     "output_type": "stream",
     "text": [
      "Name :  Nishaad\n",
      "Marks :  [99, 98, 97, 100]\n",
      "Grade :  Outstanding\n",
      "Company :  Google\n",
      "Domain :  Machine Learning\n"
     ]
    }
   ],
   "source": [
    "for key,value in dict.items():\n",
    "    print(f\"{key} :  {value}\")"
   ]
  },
  {
   "cell_type": "code",
   "execution_count": null,
   "id": "92729e49-66dc-40bb-9659-fbe9fb0e1075",
   "metadata": {},
   "outputs": [],
   "source": []
  }
 ],
 "metadata": {
  "kernelspec": {
   "display_name": "Python 3 (ipykernel)",
   "language": "python",
   "name": "python3"
  },
  "language_info": {
   "codemirror_mode": {
    "name": "ipython",
    "version": 3
   },
   "file_extension": ".py",
   "mimetype": "text/x-python",
   "name": "python",
   "nbconvert_exporter": "python",
   "pygments_lexer": "ipython3",
   "version": "3.11.1"
  }
 },
 "nbformat": 4,
 "nbformat_minor": 5
}
