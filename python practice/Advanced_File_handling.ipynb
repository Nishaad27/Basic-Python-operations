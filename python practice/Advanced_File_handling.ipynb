{
 "cells": [
  {
   "cell_type": "code",
   "execution_count": 2,
   "id": "422ebf1d-1fee-450e-b9c9-b0664109b4a5",
   "metadata": {},
   "outputs": [
    {
     "name": "stdout",
     "output_type": "stream",
     "text": [
      "The current working directory: C:\\Users\\nisha\\python practice\n"
     ]
    }
   ],
   "source": [
    "# importing os and getting the current working directory\n",
    "import os\n",
    "cwd = os.getcwd()\n",
    "\n",
    "print(f\"The current working directory: {cwd}\")"
   ]
  },
  {
   "cell_type": "code",
   "execution_count": 3,
   "id": "e160ad9a-c8e9-474f-aae0-fdddb4553574",
   "metadata": {},
   "outputs": [
    {
     "name": "stdout",
     "output_type": "stream",
     "text": [
      "Directory  'package' created\n"
     ]
    }
   ],
   "source": [
    "## create a new directory\n",
    "new_directory = \"package\"\n",
    "os.mkdir(new_directory)\n",
    "print(f\"Directory  '{new_directory}' created\")"
   ]
  },
  {
   "cell_type": "code",
   "execution_count": 6,
   "id": "31429edf-c82c-4127-8020-9b1e9be7e086",
   "metadata": {},
   "outputs": [],
   "source": [
    "## listing Files and Directories\n",
    "items = os.listdir('.')\n",
    "## the '.' parameter gives me information about the currend directory in which i am in"
   ]
  },
  {
   "cell_type": "code",
   "execution_count": 7,
   "id": "0b811d09-3b33-499b-bafd-26e57bf2f459",
   "metadata": {},
   "outputs": [
    {
     "name": "stdout",
     "output_type": "stream",
     "text": [
      "['.ipynb_checkpoints', 'abstract class demo.ipynb', 'csv_files.ipynb', 'dest2.txt', 'destination.txt', 'dictionary_practice_2.ipynb', 'dictionar_practice_1_.ipynb', 'Encapsulation.ipynb', 'example.bin', 'File_handling advanced.ipynb', 'Functions.ipynb', 'OOPS1.ipynb', 'OOPS_2.ipynb', 'package', 'property_decorators.ipynb', 'protected variables.ipynb', 'S.csv', 'S1.csv', 'S2.csv', 'set_practice.ipynb', 'source.txt', 'T1.text', 'T1.txt', 'T2.txt', 'T4.txt', 'T6.txt', 'text_files.ipynb', 'Untitled.ipynb', 'untitled.py', 'untitled.txt']\n"
     ]
    }
   ],
   "source": [
    "print(items)"
   ]
  },
  {
   "cell_type": "code",
   "execution_count": 9,
   "id": "bcc5f266-a2d8-49ec-9c32-1ee5524cfcb1",
   "metadata": {},
   "outputs": [],
   "source": [
    "## joining paths\n",
    "dir_name = \"folder\"\n",
    "file_name = \"file.txt\"\n",
    "full_path = os.path.join(dir_name,file_name)"
   ]
  },
  {
   "cell_type": "code",
   "execution_count": 10,
   "id": "5fcc676c-351f-4ac4-94e6-91d2f05a25f3",
   "metadata": {},
   "outputs": [
    {
     "name": "stdout",
     "output_type": "stream",
     "text": [
      "folder\\file.txt\n"
     ]
    }
   ],
   "source": [
    "print(full_path)"
   ]
  },
  {
   "cell_type": "code",
   "execution_count": 13,
   "id": "d571ca38-3569-4b9f-b5d1-b642cf2c9134",
   "metadata": {},
   "outputs": [
    {
     "name": "stdout",
     "output_type": "stream",
     "text": [
      "C:\\Users\\nisha\\python practice\\folder\\file.txt\n"
     ]
    }
   ],
   "source": [
    "# to get with my currend working directory\n",
    "dir_name = \"folder\"\n",
    "file_name = \"file.txt\"\n",
    "full_path = os.path.join(os.getcwd(),dir_name,file_name)\n",
    "print(full_path)"
   ]
  },
  {
   "cell_type": "code",
   "execution_count": 14,
   "id": "73c2c313-56d1-4aab-a4f2-646e91f1123d",
   "metadata": {},
   "outputs": [
    {
     "name": "stdout",
     "output_type": "stream",
     "text": [
      "The path  example1.txt does not exist\n"
     ]
    }
   ],
   "source": [
    "## to check whether a folder exists or not\n",
    "path = 'example1.txt'\n",
    "if os.path.exists(path):\n",
    "    print(f\"The path  {path} exists\")\n",
    "else:\n",
    "    print(f\"The path  {path} does not exist\")"
   ]
  },
  {
   "cell_type": "code",
   "execution_count": 19,
   "id": "23d86de9-9bb2-44a9-be7a-439b80400d83",
   "metadata": {},
   "outputs": [
    {
     "name": "stdout",
     "output_type": "stream",
     "text": [
      "The path 'C:\\Users\\nisha\\python practice\\Functions.ipynb' is a file\n"
     ]
    }
   ],
   "source": [
    "# cheking whether a path is a file or a directory\n",
    "path = 'python practice/Functions.ipynb'\n",
    "path = os.path.join(os.getcwd(),'Functions.ipynb')\n",
    "if os.path.isfile(path):\n",
    "    print(f\"The path '{path}' is a file\")\n",
    "elif os.path.isdir(path):\n",
    "    print(f\"The path '{path}' is a directory\")\n",
    "else:\n",
    "    print(f\"The path '{path}' is neither a file nor a directory\")"
   ]
  },
  {
   "cell_type": "code",
   "execution_count": 25,
   "id": "ee7e8093-78df-4809-bc1b-bf92b9add1db",
   "metadata": {},
   "outputs": [
    {
     "name": "stdout",
     "output_type": "stream",
     "text": [
      "C:\\Users\\nisha\\python practice\\OOPS_2.ipynb\n"
     ]
    }
   ],
   "source": [
    "## getting the absolute path\n",
    "relative_path = 'OOPS_2.ipynb'\n",
    "absolute_path = os.path.join(os.getcwd(),relative_path)\n",
    "print(absolute_path)"
   ]
  },
  {
   "cell_type": "code",
   "execution_count": 23,
   "id": "3a4b5896-642b-420b-9815-7385036b8f22",
   "metadata": {},
   "outputs": [
    {
     "name": "stdout",
     "output_type": "stream",
     "text": [
      "True\n"
     ]
    }
   ],
   "source": [
    "print(os.path.isfile(absolute_path))"
   ]
  },
  {
   "cell_type": "code",
   "execution_count": 27,
   "id": "c5cd616e-2f79-4142-aa90-5571e83771df",
   "metadata": {},
   "outputs": [
    {
     "name": "stdout",
     "output_type": "stream",
     "text": [
      "C:\\Users\\nisha\\python practice\\OOPS_2.ipynb\n"
     ]
    }
   ],
   "source": [
    "## doing the same job using abspath function\n",
    "relative_path = 'OOPS_2.ipynb'\n",
    "absolute_path = os.path.abspath(relative_path)\n",
    "print(absolute_path)"
   ]
  },
  {
   "cell_type": "code",
   "execution_count": null,
   "id": "13c2b2d5-9c4d-4df1-a7da-570a70bc0dfb",
   "metadata": {},
   "outputs": [],
   "source": []
  }
 ],
 "metadata": {
  "kernelspec": {
   "display_name": "Python 3 (ipykernel)",
   "language": "python",
   "name": "python3"
  },
  "language_info": {
   "codemirror_mode": {
    "name": "ipython",
    "version": 3
   },
   "file_extension": ".py",
   "mimetype": "text/x-python",
   "name": "python",
   "nbconvert_exporter": "python",
   "pygments_lexer": "ipython3",
   "version": "3.11.1"
  }
 },
 "nbformat": 4,
 "nbformat_minor": 5
}
