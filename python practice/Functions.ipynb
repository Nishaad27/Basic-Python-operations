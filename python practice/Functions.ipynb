{
 "cells": [
  {
   "cell_type": "code",
   "execution_count": 5,
   "id": "35ffdc5b-3ad3-4610-be95-7162082cff40",
   "metadata": {},
   "outputs": [],
   "source": [
    "def search(A,target):\n",
    "    low = 0\n",
    "    high = len(A)-1\n",
    "    mid = 0\n",
    "    while low <= high:\n",
    "        mid = (low+high)//2\n",
    "        if A[mid] == target:\n",
    "            return mid\n",
    "        if A[low] > A[mid]:\n",
    "            if A[mid]<=target and target <= A[high]:\n",
    "                low = mid+1\n",
    "            else:\n",
    "                high = mid-1\n",
    "        else:\n",
    "            if A[low] <=target and target <=A[mid]:\n",
    "                high = mid-1\n",
    "            else:\n",
    "                low = mid+1\n",
    "    \n",
    "            "
   ]
  },
  {
   "cell_type": "code",
   "execution_count": 6,
   "id": "bf4f16a4-3a04-43bb-b1a9-0e60411cd8db",
   "metadata": {},
   "outputs": [],
   "source": [
    "l = [7,8,9,1,2,3,4,5,6]\n"
   ]
  },
  {
   "cell_type": "code",
   "execution_count": 9,
   "id": "f7362416-6b45-4c20-965f-4adb3310f2dd",
   "metadata": {},
   "outputs": [
    {
     "name": "stdout",
     "output_type": "stream",
     "text": [
      "2\n"
     ]
    }
   ],
   "source": [
    "print(search(l,9))"
   ]
  },
  {
   "cell_type": "code",
   "execution_count": null,
   "id": "2881e204-b0a7-41ec-824d-caacd554ffa8",
   "metadata": {},
   "outputs": [],
   "source": []
  }
 ],
 "metadata": {
  "kernelspec": {
   "display_name": "Python 3 (ipykernel)",
   "language": "python",
   "name": "python3"
  },
  "language_info": {
   "codemirror_mode": {
    "name": "ipython",
    "version": 3
   },
   "file_extension": ".py",
   "mimetype": "text/x-python",
   "name": "python",
   "nbconvert_exporter": "python",
   "pygments_lexer": "ipython3",
   "version": "3.11.1"
  }
 },
 "nbformat": 4,
 "nbformat_minor": 5
}
