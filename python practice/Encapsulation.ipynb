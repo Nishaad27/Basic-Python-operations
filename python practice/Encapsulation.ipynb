{
 "cells": [
  {
   "cell_type": "markdown",
   "id": "4ed288e1-8516-467b-b63f-a1f75f8a64dd",
   "metadata": {},
   "source": [
    "Encapsulation and Private variable "
   ]
  },
  {
   "cell_type": "code",
   "execution_count": 1,
   "id": "c8a42f0a-b077-43bf-a0cc-a1c5d6e08433",
   "metadata": {},
   "outputs": [],
   "source": [
    "class Student:\n",
    "    def __init__(self,name,rollNo):\n",
    "        self.__name = name\n",
    "        self.__rollNo = rollNo\n",
    "    def setName(self,name):\n",
    "        self.__name = name\n",
    "    def setRoll(self,roll):\n",
    "        self.__rollNo = roll\n",
    "    def getName(self):\n",
    "        return self.__name\n",
    "    def getRoll(self):\n",
    "        return self.__rollNo"
   ]
  },
  {
   "cell_type": "code",
   "execution_count": 8,
   "id": "831b3cbf-2e37-4142-92e3-89ba4a7c102b",
   "metadata": {},
   "outputs": [
    {
     "name": "stdout",
     "output_type": "stream",
     "text": [
      "Nishaad\n",
      "Nishaad Mishra\n"
     ]
    }
   ],
   "source": [
    "s = Student(\"Nishaad\",114)\n",
    "print(s.getName())\n",
    "s.setName(\"Nishaad Mishra\")\n",
    "print(s.getName())"
   ]
  },
  {
   "cell_type": "markdown",
   "id": "945a0afe-cbf2-4101-af77-f9258003572e",
   "metadata": {},
   "source": [
    "using double underscore before the variables we denote private variables\n",
    "\n",
    "eg:  __name "
   ]
  },
  {
   "cell_type": "code",
   "execution_count": null,
   "id": "936a266e-f0ee-4fa0-8dfc-e565ee8fa186",
   "metadata": {},
   "outputs": [],
   "source": []
  }
 ],
 "metadata": {
  "kernelspec": {
   "display_name": "Python 3 (ipykernel)",
   "language": "python",
   "name": "python3"
  },
  "language_info": {
   "codemirror_mode": {
    "name": "ipython",
    "version": 3
   },
   "file_extension": ".py",
   "mimetype": "text/x-python",
   "name": "python",
   "nbconvert_exporter": "python",
   "pygments_lexer": "ipython3",
   "version": "3.11.1"
  }
 },
 "nbformat": 4,
 "nbformat_minor": 5
}
